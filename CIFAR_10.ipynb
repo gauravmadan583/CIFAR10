{
  "nbformat": 4,
  "nbformat_minor": 0,
  "metadata": {
    "colab": {
      "name": "CIFAR-10.ipynb",
      "provenance": []
    },
    "kernelspec": {
      "name": "python3",
      "display_name": "Python 3"
    },
    "accelerator": "GPU"
  },
  "cells": [
    {
      "cell_type": "code",
      "metadata": {
        "id": "HUJB6qX8CJxB",
        "colab_type": "code",
        "colab": {}
      },
      "source": [
        "import tensorflow as tf\n",
        "from tensorflow import keras\n",
        "import numpy as np\n",
        "import pandas as pd\n",
        "from matplotlib import pyplot as plt"
      ],
      "execution_count": 0,
      "outputs": []
    },
    {
      "cell_type": "code",
      "metadata": {
        "id": "1_qK95gHsuzN",
        "colab_type": "code",
        "outputId": "4df5f00e-f8ac-4920-90c2-3d2133c2b658",
        "colab": {
          "base_uri": "https://localhost:8080/",
          "height": 34
        }
      },
      "source": [
        "from google.colab import drive\n",
        "drive.mount('/content/gdrive')"
      ],
      "execution_count": 2,
      "outputs": [
        {
          "output_type": "stream",
          "text": [
            "Drive already mounted at /content/gdrive; to attempt to forcibly remount, call drive.mount(\"/content/gdrive\", force_remount=True).\n"
          ],
          "name": "stdout"
        }
      ]
    },
    {
      "cell_type": "code",
      "metadata": {
        "id": "qofee3CKCQu0",
        "colab_type": "code",
        "colab": {}
      },
      "source": [
        "# import keras.datasets.cifar10\n",
        "(X_train, Y_train), (X_test, Y_test) = tf.keras.datasets.cifar10.load_data()"
      ],
      "execution_count": 0,
      "outputs": []
    },
    {
      "cell_type": "code",
      "metadata": {
        "id": "H8C7DEMFC-yY",
        "colab_type": "code",
        "outputId": "09356f66-accc-4ddf-cee9-ab18288a1dd4",
        "colab": {
          "base_uri": "https://localhost:8080/",
          "height": 34
        }
      },
      "source": [
        "type(X_train)"
      ],
      "execution_count": 118,
      "outputs": [
        {
          "output_type": "execute_result",
          "data": {
            "text/plain": [
              "numpy.ndarray"
            ]
          },
          "metadata": {
            "tags": []
          },
          "execution_count": 118
        }
      ]
    },
    {
      "cell_type": "code",
      "metadata": {
        "id": "D8MvdhImCSsQ",
        "colab_type": "code",
        "colab": {}
      },
      "source": [
        "y_train = tf.keras.utils.to_categorical(Y_train, 10)\n",
        "y_test = tf.keras.utils.to_categorical(Y_test, 10)\n",
        "X_train = X_train/255 - 0.5\n",
        "X_test = X_test/255 - 0.5"
      ],
      "execution_count": 0,
      "outputs": []
    },
    {
      "cell_type": "code",
      "metadata": {
        "id": "RcFiMwB0Cfvo",
        "colab_type": "code",
        "colab": {}
      },
      "source": [
        "tf.keras.backend.clear_session()\n",
        "model = tf.keras.Sequential([\n",
        "    tf.keras.layers.Conv2D(32, (3,3),activation = \"relu\",input_shape = (32,32,3), padding = \"same\"),\n",
        "    # tf.keras.layers.MaxPooling2D(2,2),\n",
        "    tf.keras.layers.Conv2D(32, (3,3),activation = \"relu\", padding = \"same\"),\n",
        "    tf.keras.layers.MaxPooling2D(2,2),\n",
        "    tf.keras.layers.Dropout(0.25),\n",
        "    tf.keras.layers.Conv2D(64, (3,3),activation = \"relu\", padding = \"same\"),\n",
        "    # tf.keras.layers.MaxPooling2D(2,2),\n",
        "    tf.keras.layers.Conv2D(64, (3,3),activation = \"relu\", padding = \"same\"),\n",
        "    tf.keras.layers.MaxPooling2D(2,2),\n",
        "    tf.keras.layers.Dropout(0.25),\n",
        "    tf.keras.layers.Conv2D(128, (3,3),activation = \"relu\", padding = \"same\"),\n",
        "    tf.keras.layers.Conv2D(128, (3,3),activation = \"relu\", padding = \"same\"),\n",
        "    tf.keras.layers.MaxPooling2D(2,2),\n",
        "    tf.keras.layers.Dropout(0.25),\n",
        "    \n",
        "    tf.keras.layers.Flatten(),\n",
        "    tf.keras.layers.Dense(128),\n",
        "    tf.keras.layers.LeakyReLU(),\n",
        "    tf.keras.layers.Dropout(0.5),\n",
        "\n",
        "    tf.keras.layers.Dense(10),\n",
        "    tf.keras.layers.Softmax()\n",
        "\n",
        "])"
      ],
      "execution_count": 0,
      "outputs": []
    },
    {
      "cell_type": "code",
      "metadata": {
        "id": "YTS9eV6-Ciw8",
        "colab_type": "code",
        "outputId": "90a12cb3-29ca-4aad-df99-bf08aa02c374",
        "colab": {
          "base_uri": "https://localhost:8080/",
          "height": 765
        }
      },
      "source": [
        "model.summary()"
      ],
      "execution_count": 6,
      "outputs": [
        {
          "output_type": "stream",
          "text": [
            "Model: \"sequential\"\n",
            "_________________________________________________________________\n",
            "Layer (type)                 Output Shape              Param #   \n",
            "=================================================================\n",
            "conv2d (Conv2D)              (None, 32, 32, 32)        896       \n",
            "_________________________________________________________________\n",
            "conv2d_1 (Conv2D)            (None, 32, 32, 32)        9248      \n",
            "_________________________________________________________________\n",
            "max_pooling2d (MaxPooling2D) (None, 16, 16, 32)        0         \n",
            "_________________________________________________________________\n",
            "dropout (Dropout)            (None, 16, 16, 32)        0         \n",
            "_________________________________________________________________\n",
            "conv2d_2 (Conv2D)            (None, 16, 16, 64)        18496     \n",
            "_________________________________________________________________\n",
            "conv2d_3 (Conv2D)            (None, 16, 16, 64)        36928     \n",
            "_________________________________________________________________\n",
            "max_pooling2d_1 (MaxPooling2 (None, 8, 8, 64)          0         \n",
            "_________________________________________________________________\n",
            "dropout_1 (Dropout)          (None, 8, 8, 64)          0         \n",
            "_________________________________________________________________\n",
            "conv2d_4 (Conv2D)            (None, 8, 8, 128)         73856     \n",
            "_________________________________________________________________\n",
            "conv2d_5 (Conv2D)            (None, 8, 8, 128)         147584    \n",
            "_________________________________________________________________\n",
            "max_pooling2d_2 (MaxPooling2 (None, 4, 4, 128)         0         \n",
            "_________________________________________________________________\n",
            "dropout_2 (Dropout)          (None, 4, 4, 128)         0         \n",
            "_________________________________________________________________\n",
            "flatten (Flatten)            (None, 2048)              0         \n",
            "_________________________________________________________________\n",
            "dense (Dense)                (None, 128)               262272    \n",
            "_________________________________________________________________\n",
            "leaky_re_lu (LeakyReLU)      (None, 128)               0         \n",
            "_________________________________________________________________\n",
            "dropout_3 (Dropout)          (None, 128)               0         \n",
            "_________________________________________________________________\n",
            "dense_1 (Dense)              (None, 10)                1290      \n",
            "_________________________________________________________________\n",
            "softmax (Softmax)            (None, 10)                0         \n",
            "=================================================================\n",
            "Total params: 550,570\n",
            "Trainable params: 550,570\n",
            "Non-trainable params: 0\n",
            "_________________________________________________________________\n"
          ],
          "name": "stdout"
        }
      ]
    },
    {
      "cell_type": "code",
      "metadata": {
        "id": "nRBWSku6CjNE",
        "colab_type": "code",
        "colab": {}
      },
      "source": [
        "optimizer = tf.keras.optimizers.Adam(learning_rate = 0.001, epsilon = 1 )\n",
        "model.compile(\n",
        "    optimizer = \"adam\",\n",
        "    loss = \"categorical_crossentropy\",\n",
        "    metrics = [\"accuracy\"]\n",
        ")"
      ],
      "execution_count": 0,
      "outputs": []
    },
    {
      "cell_type": "code",
      "metadata": {
        "id": "c8JEHi4fClut",
        "colab_type": "code",
        "colab": {}
      },
      "source": [
        "history = model.fit(X_train, y_train, batch_size = 10000, epochs = 100, verbose = 1, shuffle= True, validation_data = (X_test, y_test))"
      ],
      "execution_count": 0,
      "outputs": []
    },
    {
      "cell_type": "code",
      "metadata": {
        "id": "GtozpFdgMhxX",
        "colab_type": "code",
        "colab": {
          "base_uri": "https://localhost:8080/",
          "height": 1000
        },
        "outputId": "62c80dfa-dfea-4dcc-a8f3-8bd835f5e194"
      },
      "source": [
        "datagen = keras.preprocessing.image.ImageDataGenerator(width_shift_range=0.1, height_shift_range=0.1, horizontal_flip=True)\n",
        "# prepare iterator\n",
        "it_train = datagen.flow(X_train, y_train, batch_size=64)\n",
        "# fit model\n",
        "steps = int(X_train.shape[0] / 64)\n",
        "history = model.fit_generator(it_train, steps_per_epoch=steps, epochs=200, validation_data=(X_test, y_test), verbose=1)"
      ],
      "execution_count": 8,
      "outputs": [
        {
          "output_type": "stream",
          "text": [
            "WARNING:tensorflow:From <ipython-input-8-de55ccae5fea>:6: Model.fit_generator (from tensorflow.python.keras.engine.training) is deprecated and will be removed in a future version.\n",
            "Instructions for updating:\n",
            "Please use Model.fit, which supports generators.\n",
            "Epoch 1/200\n",
            "781/781 [==============================] - 23s 29ms/step - loss: 1.6716 - accuracy: 0.3777 - val_loss: 1.2835 - val_accuracy: 0.5285\n",
            "Epoch 2/200\n",
            "781/781 [==============================] - 23s 29ms/step - loss: 1.2541 - accuracy: 0.5478 - val_loss: 1.0084 - val_accuracy: 0.6378\n",
            "Epoch 3/200\n",
            "781/781 [==============================] - 22s 29ms/step - loss: 1.0755 - accuracy: 0.6186 - val_loss: 1.0367 - val_accuracy: 0.6472\n",
            "Epoch 4/200\n",
            "781/781 [==============================] - 22s 29ms/step - loss: 0.9714 - accuracy: 0.6587 - val_loss: 0.8135 - val_accuracy: 0.7114\n",
            "Epoch 5/200\n",
            "781/781 [==============================] - 22s 29ms/step - loss: 0.9051 - accuracy: 0.6853 - val_loss: 0.7562 - val_accuracy: 0.7351\n",
            "Epoch 6/200\n",
            "781/781 [==============================] - 22s 28ms/step - loss: 0.8551 - accuracy: 0.7013 - val_loss: 0.8334 - val_accuracy: 0.7076\n",
            "Epoch 7/200\n",
            "781/781 [==============================] - 22s 28ms/step - loss: 0.8144 - accuracy: 0.7157 - val_loss: 0.6826 - val_accuracy: 0.7646\n",
            "Epoch 8/200\n",
            "781/781 [==============================] - 22s 28ms/step - loss: 0.7878 - accuracy: 0.7267 - val_loss: 0.6832 - val_accuracy: 0.7666\n",
            "Epoch 9/200\n",
            "781/781 [==============================] - 22s 28ms/step - loss: 0.7574 - accuracy: 0.7383 - val_loss: 0.7222 - val_accuracy: 0.7547\n",
            "Epoch 10/200\n",
            "781/781 [==============================] - 22s 28ms/step - loss: 0.7421 - accuracy: 0.7460 - val_loss: 0.6959 - val_accuracy: 0.7641\n",
            "Epoch 11/200\n",
            "781/781 [==============================] - 22s 28ms/step - loss: 0.7216 - accuracy: 0.7515 - val_loss: 0.6870 - val_accuracy: 0.7682\n",
            "Epoch 12/200\n",
            "781/781 [==============================] - 22s 28ms/step - loss: 0.7044 - accuracy: 0.7560 - val_loss: 0.6786 - val_accuracy: 0.7805\n",
            "Epoch 13/200\n",
            "781/781 [==============================] - 22s 28ms/step - loss: 0.7030 - accuracy: 0.7569 - val_loss: 0.6644 - val_accuracy: 0.7800\n",
            "Epoch 14/200\n",
            "781/781 [==============================] - 22s 28ms/step - loss: 0.6842 - accuracy: 0.7651 - val_loss: 0.6270 - val_accuracy: 0.7882\n",
            "Epoch 15/200\n",
            "781/781 [==============================] - 22s 28ms/step - loss: 0.6751 - accuracy: 0.7674 - val_loss: 0.6102 - val_accuracy: 0.7968\n",
            "Epoch 16/200\n",
            "781/781 [==============================] - 22s 28ms/step - loss: 0.6623 - accuracy: 0.7734 - val_loss: 0.6628 - val_accuracy: 0.7822\n",
            "Epoch 17/200\n",
            "781/781 [==============================] - 22s 28ms/step - loss: 0.6576 - accuracy: 0.7736 - val_loss: 0.5807 - val_accuracy: 0.8095\n",
            "Epoch 18/200\n",
            "781/781 [==============================] - 21s 27ms/step - loss: 0.6489 - accuracy: 0.7779 - val_loss: 0.6589 - val_accuracy: 0.7822\n",
            "Epoch 19/200\n",
            "781/781 [==============================] - 21s 28ms/step - loss: 0.6496 - accuracy: 0.7770 - val_loss: 0.6138 - val_accuracy: 0.7955\n",
            "Epoch 20/200\n",
            "781/781 [==============================] - 22s 28ms/step - loss: 0.6346 - accuracy: 0.7811 - val_loss: 0.6179 - val_accuracy: 0.7991\n",
            "Epoch 21/200\n",
            "781/781 [==============================] - 22s 28ms/step - loss: 0.6240 - accuracy: 0.7872 - val_loss: 0.6244 - val_accuracy: 0.7991\n",
            "Epoch 22/200\n",
            "781/781 [==============================] - 22s 28ms/step - loss: 0.6232 - accuracy: 0.7861 - val_loss: 0.5912 - val_accuracy: 0.8087\n",
            "Epoch 23/200\n",
            "781/781 [==============================] - 22s 28ms/step - loss: 0.6160 - accuracy: 0.7896 - val_loss: 0.5923 - val_accuracy: 0.8048\n",
            "Epoch 24/200\n",
            "781/781 [==============================] - 22s 28ms/step - loss: 0.6083 - accuracy: 0.7914 - val_loss: 0.7305 - val_accuracy: 0.7710\n",
            "Epoch 25/200\n",
            "781/781 [==============================] - 22s 28ms/step - loss: 0.6029 - accuracy: 0.7931 - val_loss: 0.6473 - val_accuracy: 0.7917\n",
            "Epoch 26/200\n",
            "781/781 [==============================] - 22s 28ms/step - loss: 0.6025 - accuracy: 0.7936 - val_loss: 0.5556 - val_accuracy: 0.8167\n",
            "Epoch 27/200\n",
            "781/781 [==============================] - 22s 28ms/step - loss: 0.5889 - accuracy: 0.7970 - val_loss: 0.6242 - val_accuracy: 0.8030\n",
            "Epoch 28/200\n",
            "781/781 [==============================] - 22s 28ms/step - loss: 0.5929 - accuracy: 0.7954 - val_loss: 0.5696 - val_accuracy: 0.8173\n",
            "Epoch 29/200\n",
            "781/781 [==============================] - 22s 28ms/step - loss: 0.5870 - accuracy: 0.7998 - val_loss: 0.5537 - val_accuracy: 0.8218\n",
            "Epoch 30/200\n",
            "781/781 [==============================] - 22s 28ms/step - loss: 0.5873 - accuracy: 0.7984 - val_loss: 0.5769 - val_accuracy: 0.8138\n",
            "Epoch 31/200\n",
            "781/781 [==============================] - 22s 28ms/step - loss: 0.5788 - accuracy: 0.8026 - val_loss: 0.5391 - val_accuracy: 0.8243\n",
            "Epoch 32/200\n",
            "781/781 [==============================] - 22s 28ms/step - loss: 0.5743 - accuracy: 0.8027 - val_loss: 0.5417 - val_accuracy: 0.8216\n",
            "Epoch 33/200\n",
            "781/781 [==============================] - 21s 28ms/step - loss: 0.5685 - accuracy: 0.8055 - val_loss: 0.5913 - val_accuracy: 0.8170\n",
            "Epoch 34/200\n",
            "781/781 [==============================] - 22s 28ms/step - loss: 0.5716 - accuracy: 0.8046 - val_loss: 0.5718 - val_accuracy: 0.8181\n",
            "Epoch 35/200\n",
            "781/781 [==============================] - 22s 28ms/step - loss: 0.5697 - accuracy: 0.8059 - val_loss: 0.5382 - val_accuracy: 0.8283\n",
            "Epoch 36/200\n",
            "781/781 [==============================] - 21s 27ms/step - loss: 0.5639 - accuracy: 0.8071 - val_loss: 0.5364 - val_accuracy: 0.8259\n",
            "Epoch 37/200\n",
            "781/781 [==============================] - 22s 28ms/step - loss: 0.5579 - accuracy: 0.8093 - val_loss: 0.5422 - val_accuracy: 0.8257\n",
            "Epoch 38/200\n",
            "781/781 [==============================] - 22s 28ms/step - loss: 0.5595 - accuracy: 0.8072 - val_loss: 0.5336 - val_accuracy: 0.8306\n",
            "Epoch 39/200\n",
            "781/781 [==============================] - 22s 28ms/step - loss: 0.5523 - accuracy: 0.8098 - val_loss: 0.5452 - val_accuracy: 0.8275\n",
            "Epoch 40/200\n",
            "781/781 [==============================] - 22s 28ms/step - loss: 0.5485 - accuracy: 0.8111 - val_loss: 0.5446 - val_accuracy: 0.8292\n",
            "Epoch 41/200\n",
            "781/781 [==============================] - 22s 28ms/step - loss: 0.5547 - accuracy: 0.8107 - val_loss: 0.6100 - val_accuracy: 0.8077\n",
            "Epoch 42/200\n",
            "781/781 [==============================] - 22s 28ms/step - loss: 0.5497 - accuracy: 0.8138 - val_loss: 0.5478 - val_accuracy: 0.8282\n",
            "Epoch 43/200\n",
            "781/781 [==============================] - 22s 28ms/step - loss: 0.5429 - accuracy: 0.8150 - val_loss: 0.5530 - val_accuracy: 0.8251\n",
            "Epoch 44/200\n",
            "781/781 [==============================] - 22s 28ms/step - loss: 0.5461 - accuracy: 0.8130 - val_loss: 0.5268 - val_accuracy: 0.8351\n",
            "Epoch 45/200\n",
            "781/781 [==============================] - 21s 27ms/step - loss: 0.5501 - accuracy: 0.8129 - val_loss: 0.5349 - val_accuracy: 0.8297\n",
            "Epoch 46/200\n",
            "781/781 [==============================] - 22s 28ms/step - loss: 0.5436 - accuracy: 0.8140 - val_loss: 0.5680 - val_accuracy: 0.8235\n",
            "Epoch 47/200\n",
            "781/781 [==============================] - 21s 27ms/step - loss: 0.5368 - accuracy: 0.8166 - val_loss: 0.5202 - val_accuracy: 0.8357\n",
            "Epoch 48/200\n",
            "781/781 [==============================] - 21s 27ms/step - loss: 0.5403 - accuracy: 0.8148 - val_loss: 0.5408 - val_accuracy: 0.8292\n",
            "Epoch 49/200\n",
            "781/781 [==============================] - 22s 28ms/step - loss: 0.5349 - accuracy: 0.8183 - val_loss: 0.5257 - val_accuracy: 0.8357\n",
            "Epoch 50/200\n",
            "781/781 [==============================] - 22s 28ms/step - loss: 0.5360 - accuracy: 0.8170 - val_loss: 0.5005 - val_accuracy: 0.8392\n",
            "Epoch 51/200\n",
            "781/781 [==============================] - 21s 27ms/step - loss: 0.5363 - accuracy: 0.8177 - val_loss: 0.5621 - val_accuracy: 0.8261\n",
            "Epoch 52/200\n",
            "781/781 [==============================] - 22s 28ms/step - loss: 0.5381 - accuracy: 0.8173 - val_loss: 0.5761 - val_accuracy: 0.8202\n",
            "Epoch 53/200\n",
            "781/781 [==============================] - 22s 28ms/step - loss: 0.5297 - accuracy: 0.8204 - val_loss: 0.4814 - val_accuracy: 0.8470\n",
            "Epoch 54/200\n",
            "781/781 [==============================] - 22s 28ms/step - loss: 0.5238 - accuracy: 0.8204 - val_loss: 0.5526 - val_accuracy: 0.8263\n",
            "Epoch 55/200\n",
            "781/781 [==============================] - 21s 27ms/step - loss: 0.5224 - accuracy: 0.8217 - val_loss: 0.5181 - val_accuracy: 0.8353\n",
            "Epoch 56/200\n",
            "781/781 [==============================] - 22s 28ms/step - loss: 0.5200 - accuracy: 0.8208 - val_loss: 0.5615 - val_accuracy: 0.8299\n",
            "Epoch 57/200\n",
            "781/781 [==============================] - 22s 28ms/step - loss: 0.5282 - accuracy: 0.8198 - val_loss: 0.5230 - val_accuracy: 0.8321\n",
            "Epoch 58/200\n",
            "781/781 [==============================] - 21s 27ms/step - loss: 0.5183 - accuracy: 0.8237 - val_loss: 0.5895 - val_accuracy: 0.8227\n",
            "Epoch 59/200\n",
            "781/781 [==============================] - 21s 27ms/step - loss: 0.5184 - accuracy: 0.8222 - val_loss: 0.5478 - val_accuracy: 0.8301\n",
            "Epoch 60/200\n",
            "781/781 [==============================] - 22s 28ms/step - loss: 0.5235 - accuracy: 0.8222 - val_loss: 0.5205 - val_accuracy: 0.8383\n",
            "Epoch 61/200\n",
            "781/781 [==============================] - 22s 28ms/step - loss: 0.5174 - accuracy: 0.8239 - val_loss: 0.5272 - val_accuracy: 0.8360\n",
            "Epoch 62/200\n",
            "781/781 [==============================] - 21s 27ms/step - loss: 0.5226 - accuracy: 0.8234 - val_loss: 0.5615 - val_accuracy: 0.8258\n",
            "Epoch 63/200\n",
            "781/781 [==============================] - 21s 27ms/step - loss: 0.5138 - accuracy: 0.8262 - val_loss: 0.5211 - val_accuracy: 0.8376\n",
            "Epoch 64/200\n",
            "781/781 [==============================] - 21s 27ms/step - loss: 0.5074 - accuracy: 0.8276 - val_loss: 0.5324 - val_accuracy: 0.8348\n",
            "Epoch 65/200\n",
            "781/781 [==============================] - 22s 28ms/step - loss: 0.5196 - accuracy: 0.8219 - val_loss: 0.5258 - val_accuracy: 0.8394\n",
            "Epoch 66/200\n",
            "781/781 [==============================] - 21s 28ms/step - loss: 0.5154 - accuracy: 0.8262 - val_loss: 0.5312 - val_accuracy: 0.8388\n",
            "Epoch 67/200\n",
            "781/781 [==============================] - 22s 28ms/step - loss: 0.5110 - accuracy: 0.8254 - val_loss: 0.5357 - val_accuracy: 0.8329\n",
            "Epoch 68/200\n",
            "781/781 [==============================] - 21s 27ms/step - loss: 0.5137 - accuracy: 0.8257 - val_loss: 0.5143 - val_accuracy: 0.8398\n",
            "Epoch 69/200\n",
            "781/781 [==============================] - 21s 27ms/step - loss: 0.5036 - accuracy: 0.8265 - val_loss: 0.5313 - val_accuracy: 0.8342\n",
            "Epoch 70/200\n",
            "781/781 [==============================] - 21s 27ms/step - loss: 0.5108 - accuracy: 0.8249 - val_loss: 0.5302 - val_accuracy: 0.8366\n",
            "Epoch 71/200\n",
            "781/781 [==============================] - 21s 27ms/step - loss: 0.5134 - accuracy: 0.8246 - val_loss: 0.5216 - val_accuracy: 0.8352\n",
            "Epoch 72/200\n",
            "781/781 [==============================] - 21s 27ms/step - loss: 0.5075 - accuracy: 0.8277 - val_loss: 0.5464 - val_accuracy: 0.8356\n",
            "Epoch 73/200\n",
            "781/781 [==============================] - 21s 27ms/step - loss: 0.5101 - accuracy: 0.8297 - val_loss: 0.5877 - val_accuracy: 0.8195\n",
            "Epoch 74/200\n",
            "781/781 [==============================] - 21s 27ms/step - loss: 0.5069 - accuracy: 0.8256 - val_loss: 0.5397 - val_accuracy: 0.8334\n",
            "Epoch 75/200\n",
            "781/781 [==============================] - 21s 27ms/step - loss: 0.5078 - accuracy: 0.8271 - val_loss: 0.5386 - val_accuracy: 0.8347\n",
            "Epoch 76/200\n",
            "781/781 [==============================] - 22s 28ms/step - loss: 0.5037 - accuracy: 0.8298 - val_loss: 0.5403 - val_accuracy: 0.8365\n",
            "Epoch 77/200\n",
            "781/781 [==============================] - 21s 27ms/step - loss: 0.5051 - accuracy: 0.8302 - val_loss: 0.5724 - val_accuracy: 0.8357\n",
            "Epoch 78/200\n",
            "781/781 [==============================] - 21s 27ms/step - loss: 0.5082 - accuracy: 0.8281 - val_loss: 0.5586 - val_accuracy: 0.8310\n",
            "Epoch 79/200\n",
            "781/781 [==============================] - 21s 27ms/step - loss: 0.4993 - accuracy: 0.8318 - val_loss: 0.4899 - val_accuracy: 0.8491\n",
            "Epoch 80/200\n",
            "781/781 [==============================] - 21s 27ms/step - loss: 0.5062 - accuracy: 0.8288 - val_loss: 0.5171 - val_accuracy: 0.8448\n",
            "Epoch 81/200\n",
            "781/781 [==============================] - 21s 27ms/step - loss: 0.5048 - accuracy: 0.8292 - val_loss: 0.5321 - val_accuracy: 0.8336\n",
            "Epoch 82/200\n",
            "781/781 [==============================] - 21s 27ms/step - loss: 0.5056 - accuracy: 0.8313 - val_loss: 0.5549 - val_accuracy: 0.8358\n",
            "Epoch 83/200\n",
            "781/781 [==============================] - 21s 28ms/step - loss: 0.4997 - accuracy: 0.8322 - val_loss: 0.5518 - val_accuracy: 0.8314\n",
            "Epoch 84/200\n",
            "781/781 [==============================] - 22s 28ms/step - loss: 0.5005 - accuracy: 0.8324 - val_loss: 0.5066 - val_accuracy: 0.8449\n",
            "Epoch 85/200\n",
            "781/781 [==============================] - 21s 27ms/step - loss: 0.5048 - accuracy: 0.8305 - val_loss: 0.5753 - val_accuracy: 0.8255\n",
            "Epoch 86/200\n",
            "781/781 [==============================] - 21s 27ms/step - loss: 0.4980 - accuracy: 0.8314 - val_loss: 0.5371 - val_accuracy: 0.8342\n",
            "Epoch 87/200\n",
            "781/781 [==============================] - 22s 28ms/step - loss: 0.4981 - accuracy: 0.8303 - val_loss: 0.6084 - val_accuracy: 0.8261\n",
            "Epoch 88/200\n",
            "781/781 [==============================] - 22s 28ms/step - loss: 0.4984 - accuracy: 0.8322 - val_loss: 0.5136 - val_accuracy: 0.8439\n",
            "Epoch 89/200\n",
            "781/781 [==============================] - 21s 27ms/step - loss: 0.5005 - accuracy: 0.8309 - val_loss: 0.5164 - val_accuracy: 0.8420\n",
            "Epoch 90/200\n",
            "781/781 [==============================] - 21s 27ms/step - loss: 0.4974 - accuracy: 0.8329 - val_loss: 0.5182 - val_accuracy: 0.8407\n",
            "Epoch 91/200\n",
            "781/781 [==============================] - 22s 28ms/step - loss: 0.4991 - accuracy: 0.8323 - val_loss: 0.5307 - val_accuracy: 0.8342\n",
            "Epoch 92/200\n",
            "781/781 [==============================] - 21s 28ms/step - loss: 0.5013 - accuracy: 0.8301 - val_loss: 0.5306 - val_accuracy: 0.8412\n",
            "Epoch 93/200\n",
            "781/781 [==============================] - 21s 27ms/step - loss: 0.4933 - accuracy: 0.8320 - val_loss: 0.5169 - val_accuracy: 0.8437\n",
            "Epoch 94/200\n",
            "781/781 [==============================] - 21s 28ms/step - loss: 0.5014 - accuracy: 0.8300 - val_loss: 0.5174 - val_accuracy: 0.8449\n",
            "Epoch 95/200\n",
            "781/781 [==============================] - 22s 28ms/step - loss: 0.5048 - accuracy: 0.8308 - val_loss: 0.5365 - val_accuracy: 0.8370\n",
            "Epoch 96/200\n",
            "781/781 [==============================] - 22s 28ms/step - loss: 0.4975 - accuracy: 0.8324 - val_loss: 0.5682 - val_accuracy: 0.8299\n",
            "Epoch 97/200\n",
            "781/781 [==============================] - 21s 27ms/step - loss: 0.4916 - accuracy: 0.8334 - val_loss: 0.5236 - val_accuracy: 0.8445\n",
            "Epoch 98/200\n",
            "781/781 [==============================] - 22s 28ms/step - loss: 0.4934 - accuracy: 0.8328 - val_loss: 0.5074 - val_accuracy: 0.8403\n",
            "Epoch 99/200\n",
            "781/781 [==============================] - 21s 28ms/step - loss: 0.4917 - accuracy: 0.8334 - val_loss: 0.5021 - val_accuracy: 0.8518\n",
            "Epoch 100/200\n",
            "781/781 [==============================] - 21s 27ms/step - loss: 0.4914 - accuracy: 0.8349 - val_loss: 0.5164 - val_accuracy: 0.8440\n",
            "Epoch 101/200\n",
            "781/781 [==============================] - 21s 27ms/step - loss: 0.4938 - accuracy: 0.8323 - val_loss: 0.5583 - val_accuracy: 0.8367\n",
            "Epoch 102/200\n",
            "781/781 [==============================] - 22s 28ms/step - loss: 0.4831 - accuracy: 0.8361 - val_loss: 0.5495 - val_accuracy: 0.8352\n",
            "Epoch 103/200\n",
            "781/781 [==============================] - 21s 27ms/step - loss: 0.4905 - accuracy: 0.8357 - val_loss: 0.5313 - val_accuracy: 0.8356\n",
            "Epoch 104/200\n",
            "781/781 [==============================] - 21s 27ms/step - loss: 0.4975 - accuracy: 0.8327 - val_loss: 0.5336 - val_accuracy: 0.8391\n",
            "Epoch 105/200\n",
            "781/781 [==============================] - 21s 27ms/step - loss: 0.4879 - accuracy: 0.8348 - val_loss: 0.5126 - val_accuracy: 0.8411\n",
            "Epoch 106/200\n",
            "781/781 [==============================] - 22s 28ms/step - loss: 0.4895 - accuracy: 0.8349 - val_loss: 0.5240 - val_accuracy: 0.8386\n",
            "Epoch 107/200\n",
            "781/781 [==============================] - 21s 27ms/step - loss: 0.4799 - accuracy: 0.8380 - val_loss: 0.5452 - val_accuracy: 0.8421\n",
            "Epoch 108/200\n",
            "781/781 [==============================] - 21s 27ms/step - loss: 0.4876 - accuracy: 0.8349 - val_loss: 0.5247 - val_accuracy: 0.8410\n",
            "Epoch 109/200\n",
            "781/781 [==============================] - 22s 28ms/step - loss: 0.4902 - accuracy: 0.8349 - val_loss: 0.5419 - val_accuracy: 0.8391\n",
            "Epoch 110/200\n",
            "781/781 [==============================] - 22s 28ms/step - loss: 0.4880 - accuracy: 0.8348 - val_loss: 0.5368 - val_accuracy: 0.8411\n",
            "Epoch 111/200\n",
            "781/781 [==============================] - 21s 27ms/step - loss: 0.4878 - accuracy: 0.8358 - val_loss: 0.5525 - val_accuracy: 0.8314\n",
            "Epoch 112/200\n",
            "781/781 [==============================] - 22s 28ms/step - loss: 0.4881 - accuracy: 0.8346 - val_loss: 0.5036 - val_accuracy: 0.8531\n",
            "Epoch 113/200\n",
            "781/781 [==============================] - 21s 27ms/step - loss: 0.4829 - accuracy: 0.8372 - val_loss: 0.5006 - val_accuracy: 0.8454\n",
            "Epoch 114/200\n",
            "781/781 [==============================] - 22s 28ms/step - loss: 0.4877 - accuracy: 0.8355 - val_loss: 0.5250 - val_accuracy: 0.8422\n",
            "Epoch 115/200\n",
            "781/781 [==============================] - 22s 28ms/step - loss: 0.4748 - accuracy: 0.8411 - val_loss: 0.5371 - val_accuracy: 0.8419\n",
            "Epoch 116/200\n",
            "781/781 [==============================] - 21s 28ms/step - loss: 0.4867 - accuracy: 0.8362 - val_loss: 0.5195 - val_accuracy: 0.8400\n",
            "Epoch 117/200\n",
            "781/781 [==============================] - 21s 27ms/step - loss: 0.4870 - accuracy: 0.8344 - val_loss: 0.5464 - val_accuracy: 0.8413\n",
            "Epoch 118/200\n",
            "781/781 [==============================] - 21s 27ms/step - loss: 0.4915 - accuracy: 0.8360 - val_loss: 0.5694 - val_accuracy: 0.8334\n",
            "Epoch 119/200\n",
            "781/781 [==============================] - 21s 27ms/step - loss: 0.4860 - accuracy: 0.8358 - val_loss: 0.5242 - val_accuracy: 0.8419\n",
            "Epoch 120/200\n",
            "781/781 [==============================] - 21s 27ms/step - loss: 0.4887 - accuracy: 0.8370 - val_loss: 0.5316 - val_accuracy: 0.8448\n",
            "Epoch 121/200\n",
            "781/781 [==============================] - 21s 27ms/step - loss: 0.4866 - accuracy: 0.8350 - val_loss: 0.4930 - val_accuracy: 0.8550\n",
            "Epoch 122/200\n",
            "781/781 [==============================] - 21s 27ms/step - loss: 0.4860 - accuracy: 0.8356 - val_loss: 0.5032 - val_accuracy: 0.8501\n",
            "Epoch 123/200\n",
            "781/781 [==============================] - 21s 27ms/step - loss: 0.4833 - accuracy: 0.8361 - val_loss: 0.5428 - val_accuracy: 0.8408\n",
            "Epoch 124/200\n",
            "781/781 [==============================] - 22s 28ms/step - loss: 0.4879 - accuracy: 0.8367 - val_loss: 0.5157 - val_accuracy: 0.8465\n",
            "Epoch 125/200\n",
            "781/781 [==============================] - 22s 28ms/step - loss: 0.4859 - accuracy: 0.8369 - val_loss: 0.4993 - val_accuracy: 0.8447\n",
            "Epoch 126/200\n",
            "781/781 [==============================] - 21s 27ms/step - loss: 0.4809 - accuracy: 0.8370 - val_loss: 0.5192 - val_accuracy: 0.8408\n",
            "Epoch 127/200\n",
            "781/781 [==============================] - 22s 28ms/step - loss: 0.4795 - accuracy: 0.8376 - val_loss: 0.5668 - val_accuracy: 0.8335\n",
            "Epoch 128/200\n",
            "781/781 [==============================] - 21s 27ms/step - loss: 0.4769 - accuracy: 0.8381 - val_loss: 0.5164 - val_accuracy: 0.8438\n",
            "Epoch 129/200\n",
            "781/781 [==============================] - 21s 27ms/step - loss: 0.4800 - accuracy: 0.8375 - val_loss: 0.4785 - val_accuracy: 0.8535\n",
            "Epoch 130/200\n",
            "781/781 [==============================] - 21s 27ms/step - loss: 0.4841 - accuracy: 0.8373 - val_loss: 0.5078 - val_accuracy: 0.8398\n",
            "Epoch 131/200\n",
            "781/781 [==============================] - 21s 27ms/step - loss: 0.4766 - accuracy: 0.8394 - val_loss: 0.4890 - val_accuracy: 0.8513\n",
            "Epoch 132/200\n",
            "781/781 [==============================] - 22s 28ms/step - loss: 0.4825 - accuracy: 0.8384 - val_loss: 0.5491 - val_accuracy: 0.8398\n",
            "Epoch 133/200\n",
            "781/781 [==============================] - 21s 27ms/step - loss: 0.4787 - accuracy: 0.8371 - val_loss: 0.5464 - val_accuracy: 0.8430\n",
            "Epoch 134/200\n",
            "781/781 [==============================] - 21s 27ms/step - loss: 0.4798 - accuracy: 0.8382 - val_loss: 0.5612 - val_accuracy: 0.8380\n",
            "Epoch 135/200\n",
            "781/781 [==============================] - 21s 27ms/step - loss: 0.4816 - accuracy: 0.8361 - val_loss: 0.5110 - val_accuracy: 0.8474\n",
            "Epoch 136/200\n",
            "781/781 [==============================] - 22s 28ms/step - loss: 0.4815 - accuracy: 0.8383 - val_loss: 0.5176 - val_accuracy: 0.8427\n",
            "Epoch 137/200\n",
            "781/781 [==============================] - 21s 27ms/step - loss: 0.4772 - accuracy: 0.8383 - val_loss: 0.5224 - val_accuracy: 0.8432\n",
            "Epoch 138/200\n",
            "781/781 [==============================] - 21s 27ms/step - loss: 0.4833 - accuracy: 0.8363 - val_loss: 0.5153 - val_accuracy: 0.8450\n",
            "Epoch 139/200\n",
            "781/781 [==============================] - 22s 28ms/step - loss: 0.4829 - accuracy: 0.8383 - val_loss: 0.5744 - val_accuracy: 0.8392\n",
            "Epoch 140/200\n",
            "781/781 [==============================] - 21s 28ms/step - loss: 0.4831 - accuracy: 0.8388 - val_loss: 0.5538 - val_accuracy: 0.8405\n",
            "Epoch 141/200\n",
            "781/781 [==============================] - 21s 27ms/step - loss: 0.4853 - accuracy: 0.8378 - val_loss: 0.5534 - val_accuracy: 0.8403\n",
            "Epoch 142/200\n",
            "781/781 [==============================] - 21s 27ms/step - loss: 0.4739 - accuracy: 0.8414 - val_loss: 0.5106 - val_accuracy: 0.8460\n",
            "Epoch 143/200\n",
            "781/781 [==============================] - 21s 27ms/step - loss: 0.4747 - accuracy: 0.8408 - val_loss: 0.5515 - val_accuracy: 0.8390\n",
            "Epoch 144/200\n",
            "781/781 [==============================] - 22s 28ms/step - loss: 0.4823 - accuracy: 0.8376 - val_loss: 0.6212 - val_accuracy: 0.8188\n",
            "Epoch 145/200\n",
            "781/781 [==============================] - 21s 27ms/step - loss: 0.4789 - accuracy: 0.8373 - val_loss: 0.5292 - val_accuracy: 0.8465\n",
            "Epoch 146/200\n",
            "781/781 [==============================] - 21s 27ms/step - loss: 0.4828 - accuracy: 0.8390 - val_loss: 0.5096 - val_accuracy: 0.8454\n",
            "Epoch 147/200\n",
            "781/781 [==============================] - 21s 28ms/step - loss: 0.4839 - accuracy: 0.8378 - val_loss: 0.5555 - val_accuracy: 0.8373\n",
            "Epoch 148/200\n",
            "781/781 [==============================] - 21s 27ms/step - loss: 0.4826 - accuracy: 0.8365 - val_loss: 0.4879 - val_accuracy: 0.8540\n",
            "Epoch 149/200\n",
            "781/781 [==============================] - 21s 27ms/step - loss: 0.4808 - accuracy: 0.8383 - val_loss: 0.5172 - val_accuracy: 0.8449\n",
            "Epoch 150/200\n",
            "781/781 [==============================] - 21s 27ms/step - loss: 0.4753 - accuracy: 0.8402 - val_loss: 0.5620 - val_accuracy: 0.8330\n",
            "Epoch 151/200\n",
            "781/781 [==============================] - 22s 28ms/step - loss: 0.4781 - accuracy: 0.8402 - val_loss: 0.4962 - val_accuracy: 0.8529\n",
            "Epoch 152/200\n",
            "781/781 [==============================] - 21s 27ms/step - loss: 0.4700 - accuracy: 0.8411 - val_loss: 0.5743 - val_accuracy: 0.8349\n",
            "Epoch 153/200\n",
            "781/781 [==============================] - 21s 27ms/step - loss: 0.4809 - accuracy: 0.8382 - val_loss: 0.4827 - val_accuracy: 0.8513\n",
            "Epoch 154/200\n",
            "781/781 [==============================] - 22s 28ms/step - loss: 0.4792 - accuracy: 0.8394 - val_loss: 0.5222 - val_accuracy: 0.8447\n",
            "Epoch 155/200\n",
            "781/781 [==============================] - 22s 28ms/step - loss: 0.4754 - accuracy: 0.8419 - val_loss: 0.5508 - val_accuracy: 0.8395\n",
            "Epoch 156/200\n",
            "781/781 [==============================] - 21s 27ms/step - loss: 0.4791 - accuracy: 0.8382 - val_loss: 0.4894 - val_accuracy: 0.8491\n",
            "Epoch 157/200\n",
            "781/781 [==============================] - 21s 27ms/step - loss: 0.4845 - accuracy: 0.8375 - val_loss: 0.4867 - val_accuracy: 0.8549\n",
            "Epoch 158/200\n",
            "781/781 [==============================] - 21s 27ms/step - loss: 0.4703 - accuracy: 0.8406 - val_loss: 0.5517 - val_accuracy: 0.8449\n",
            "Epoch 159/200\n",
            "781/781 [==============================] - 21s 27ms/step - loss: 0.4783 - accuracy: 0.8391 - val_loss: 0.4878 - val_accuracy: 0.8515\n",
            "Epoch 160/200\n",
            "781/781 [==============================] - 21s 27ms/step - loss: 0.4721 - accuracy: 0.8420 - val_loss: 0.5258 - val_accuracy: 0.8432\n",
            "Epoch 161/200\n",
            "781/781 [==============================] - 21s 27ms/step - loss: 0.4760 - accuracy: 0.8395 - val_loss: 0.5016 - val_accuracy: 0.8524\n",
            "Epoch 162/200\n",
            "781/781 [==============================] - 21s 27ms/step - loss: 0.4739 - accuracy: 0.8416 - val_loss: 0.5550 - val_accuracy: 0.8347\n",
            "Epoch 163/200\n",
            "781/781 [==============================] - 21s 27ms/step - loss: 0.4699 - accuracy: 0.8423 - val_loss: 0.5104 - val_accuracy: 0.8506\n",
            "Epoch 164/200\n",
            "781/781 [==============================] - 21s 27ms/step - loss: 0.4699 - accuracy: 0.8434 - val_loss: 0.5175 - val_accuracy: 0.8495\n",
            "Epoch 165/200\n",
            "781/781 [==============================] - 21s 27ms/step - loss: 0.4755 - accuracy: 0.8419 - val_loss: 0.5065 - val_accuracy: 0.8506\n",
            "Epoch 166/200\n",
            "781/781 [==============================] - 22s 28ms/step - loss: 0.4726 - accuracy: 0.8419 - val_loss: 0.5413 - val_accuracy: 0.8439\n",
            "Epoch 167/200\n",
            "781/781 [==============================] - 22s 28ms/step - loss: 0.4755 - accuracy: 0.8405 - val_loss: 0.5503 - val_accuracy: 0.8408\n",
            "Epoch 168/200\n",
            "781/781 [==============================] - 22s 28ms/step - loss: 0.4732 - accuracy: 0.8404 - val_loss: 0.5546 - val_accuracy: 0.8404\n",
            "Epoch 169/200\n",
            "781/781 [==============================] - 22s 28ms/step - loss: 0.4779 - accuracy: 0.8400 - val_loss: 0.5321 - val_accuracy: 0.8462\n",
            "Epoch 170/200\n",
            "781/781 [==============================] - 22s 28ms/step - loss: 0.4720 - accuracy: 0.8424 - val_loss: 0.4945 - val_accuracy: 0.8567\n",
            "Epoch 171/200\n",
            "781/781 [==============================] - 21s 27ms/step - loss: 0.4723 - accuracy: 0.8406 - val_loss: 0.5807 - val_accuracy: 0.8329\n",
            "Epoch 172/200\n",
            "781/781 [==============================] - 22s 28ms/step - loss: 0.4727 - accuracy: 0.8412 - val_loss: 0.5553 - val_accuracy: 0.8362\n",
            "Epoch 173/200\n",
            "781/781 [==============================] - 22s 28ms/step - loss: 0.4723 - accuracy: 0.8415 - val_loss: 0.5132 - val_accuracy: 0.8458\n",
            "Epoch 174/200\n",
            "781/781 [==============================] - 22s 28ms/step - loss: 0.4765 - accuracy: 0.8393 - val_loss: 0.5307 - val_accuracy: 0.8392\n",
            "Epoch 175/200\n",
            "781/781 [==============================] - 22s 28ms/step - loss: 0.4767 - accuracy: 0.8399 - val_loss: 0.5273 - val_accuracy: 0.8443\n",
            "Epoch 176/200\n",
            "781/781 [==============================] - 22s 28ms/step - loss: 0.4736 - accuracy: 0.8395 - val_loss: 0.5401 - val_accuracy: 0.8391\n",
            "Epoch 177/200\n",
            "781/781 [==============================] - 22s 28ms/step - loss: 0.4656 - accuracy: 0.8436 - val_loss: 0.5810 - val_accuracy: 0.8354\n",
            "Epoch 178/200\n",
            "781/781 [==============================] - 22s 28ms/step - loss: 0.4769 - accuracy: 0.8399 - val_loss: 0.5544 - val_accuracy: 0.8420\n",
            "Epoch 179/200\n",
            "781/781 [==============================] - 21s 27ms/step - loss: 0.4683 - accuracy: 0.8419 - val_loss: 0.5708 - val_accuracy: 0.8342\n",
            "Epoch 180/200\n",
            "781/781 [==============================] - 21s 28ms/step - loss: 0.4711 - accuracy: 0.8412 - val_loss: 0.4984 - val_accuracy: 0.8519\n",
            "Epoch 181/200\n",
            "781/781 [==============================] - 22s 28ms/step - loss: 0.4710 - accuracy: 0.8398 - val_loss: 0.5262 - val_accuracy: 0.8478\n",
            "Epoch 182/200\n",
            "781/781 [==============================] - 22s 28ms/step - loss: 0.4708 - accuracy: 0.8425 - val_loss: 0.5056 - val_accuracy: 0.8564\n",
            "Epoch 183/200\n",
            "781/781 [==============================] - 22s 28ms/step - loss: 0.4656 - accuracy: 0.8452 - val_loss: 0.5224 - val_accuracy: 0.8493\n",
            "Epoch 184/200\n",
            "781/781 [==============================] - 21s 27ms/step - loss: 0.4771 - accuracy: 0.8398 - val_loss: 0.5178 - val_accuracy: 0.8424\n",
            "Epoch 185/200\n",
            "781/781 [==============================] - 21s 28ms/step - loss: 0.4696 - accuracy: 0.8424 - val_loss: 0.5445 - val_accuracy: 0.8437\n",
            "Epoch 186/200\n",
            "781/781 [==============================] - 21s 27ms/step - loss: 0.4743 - accuracy: 0.8408 - val_loss: 0.5352 - val_accuracy: 0.8459\n",
            "Epoch 187/200\n",
            "781/781 [==============================] - 21s 27ms/step - loss: 0.4710 - accuracy: 0.8415 - val_loss: 0.5414 - val_accuracy: 0.8439\n",
            "Epoch 188/200\n",
            "781/781 [==============================] - 22s 28ms/step - loss: 0.4698 - accuracy: 0.8415 - val_loss: 0.5182 - val_accuracy: 0.8501\n",
            "Epoch 189/200\n",
            "781/781 [==============================] - 22s 28ms/step - loss: 0.4681 - accuracy: 0.8404 - val_loss: 0.5276 - val_accuracy: 0.8477\n",
            "Epoch 190/200\n",
            "781/781 [==============================] - 22s 28ms/step - loss: 0.4682 - accuracy: 0.8432 - val_loss: 0.5137 - val_accuracy: 0.8473\n",
            "Epoch 191/200\n",
            "781/781 [==============================] - 22s 28ms/step - loss: 0.4720 - accuracy: 0.8424 - val_loss: 0.5400 - val_accuracy: 0.8482\n",
            "Epoch 192/200\n",
            "781/781 [==============================] - 22s 28ms/step - loss: 0.4734 - accuracy: 0.8432 - val_loss: 0.5425 - val_accuracy: 0.8375\n",
            "Epoch 193/200\n",
            "781/781 [==============================] - 21s 27ms/step - loss: 0.4587 - accuracy: 0.8466 - val_loss: 0.5470 - val_accuracy: 0.8393\n",
            "Epoch 194/200\n",
            "781/781 [==============================] - 22s 28ms/step - loss: 0.4688 - accuracy: 0.8432 - val_loss: 0.5082 - val_accuracy: 0.8490\n",
            "Epoch 195/200\n",
            "781/781 [==============================] - 21s 27ms/step - loss: 0.4685 - accuracy: 0.8437 - val_loss: 0.5637 - val_accuracy: 0.8377\n",
            "Epoch 196/200\n",
            "781/781 [==============================] - 22s 28ms/step - loss: 0.4662 - accuracy: 0.8425 - val_loss: 0.6069 - val_accuracy: 0.8332\n",
            "Epoch 197/200\n",
            "781/781 [==============================] - 22s 28ms/step - loss: 0.4715 - accuracy: 0.8418 - val_loss: 0.5196 - val_accuracy: 0.8471\n",
            "Epoch 198/200\n",
            "781/781 [==============================] - 21s 27ms/step - loss: 0.4714 - accuracy: 0.8420 - val_loss: 0.4975 - val_accuracy: 0.8533\n",
            "Epoch 199/200\n",
            "781/781 [==============================] - 21s 27ms/step - loss: 0.4744 - accuracy: 0.8421 - val_loss: 0.5600 - val_accuracy: 0.8360\n",
            "Epoch 200/200\n",
            "781/781 [==============================] - 22s 28ms/step - loss: 0.4692 - accuracy: 0.8437 - val_loss: 0.5162 - val_accuracy: 0.8486\n"
          ],
          "name": "stdout"
        }
      ]
    },
    {
      "cell_type": "code",
      "metadata": {
        "id": "Cm_4pdt-ozMa",
        "colab_type": "code",
        "outputId": "c68459aa-466d-4615-9d4c-3c0546a260fc",
        "colab": {
          "base_uri": "https://localhost:8080/",
          "height": 295
        }
      },
      "source": [
        "plt.subplot(2,1,1)\n",
        "plt.title(\"Loss\")\n",
        "plt.xlabel(\"epochs\")\n",
        "plt.ylabel(\"loss\")\n",
        "\n",
        "plt.plot(history.history['loss'], color = 'blue', )\n",
        "plt.plot(history.history['val_loss'], color = 'orange')\n",
        "# plt.show()\n",
        "plt.subplot(2,1,2)\n",
        "plt.title(\"Accuracy\")\n",
        "plt.xlabel(\"epochs\")\n",
        "plt.ylabel(\"accuracy\")\n",
        "plt.plot(history.history['accuracy'])\n",
        "plt.plot(history.history['val_accuracy'])\n",
        "plt.savefig(\"model2\" + \"_plot.png\")\n",
        "plt.show()\n",
        "\n",
        "plt.close()"
      ],
      "execution_count": 9,
      "outputs": [
        {
          "output_type": "display_data",
          "data": {
            "image/png": "[encoded data removed]",
            "text/plain": [
              "<Figure size 432x288 with 2 Axes>"
            ]
          },
          "metadata": {
            "tags": [],
            "needs_background": "light"
          }
        }
      ]
    },
    {
      "cell_type": "code",
      "metadata": {
        "id": "zJkzPuns7FcM",
        "colab_type": "code",
        "colab": {}
      },
      "source": [
        "model.save_weights('model2.h5')"
      ],
      "execution_count": 0,
      "outputs": []
    },
    {
      "cell_type": "code",
      "metadata": {
        "id": "lzNkfmkSCyAn",
        "colab_type": "code",
        "colab": {}
      },
      "source": [
        "from sklearn.metrics import confusion_matrix, accuracy_score"
      ],
      "execution_count": 0,
      "outputs": []
    },
    {
      "cell_type": "code",
      "metadata": {
        "id": "pIhIaLMmGSU_",
        "colab_type": "code",
        "colab": {}
      },
      "source": [
        "prediction = model.predict(X_test)"
      ],
      "execution_count": 0,
      "outputs": []
    },
    {
      "cell_type": "code",
      "metadata": {
        "id": "ZxUX5LyTGWX0",
        "colab_type": "code",
        "colab": {}
      },
      "source": [
        "y_test_class = np.argmax(prediction, axis = 1)"
      ],
      "execution_count": 0,
      "outputs": []
    },
    {
      "cell_type": "code",
      "metadata": {
        "id": "cn2YVx_HGX1h",
        "colab_type": "code",
        "outputId": "a34a9af1-0ee9-416a-bd11-f65d32aac4a1",
        "colab": {
          "base_uri": "https://localhost:8080/",
          "height": 282
        }
      },
      "source": [
        "matrix = confusion_matrix(Y_test, y_test_class)\n",
        "# plt.plot(matrix)\n",
        "plt.imshow(matrix)\n",
        "plt.savefig('model2' + '_confusion-matrix.png')\n",
        "plt.show()\n",
        "print(accuracy_score(Y_test, y_test_class))"
      ],
      "execution_count": 14,
      "outputs": [
        {
          "output_type": "display_data",
          "data": {
            "image/png": "[encoded data removed]",
            "text/plain": [
              "<Figure size 432x288 with 1 Axes>"
            ]
          },
          "metadata": {
            "tags": [],
            "needs_background": "light"
          }
        },
        {
          "output_type": "stream",
          "text": [
            "0.8486\n"
          ],
          "name": "stdout"
        }
      ]
    },
    {
      "cell_type": "code",
      "metadata": {
        "id": "OoM1iLwUGlgQ",
        "colab_type": "code",
        "colab": {}
      },
      "source": [
        ""
      ],
      "execution_count": 0,
      "outputs": []
    }
  ]
}